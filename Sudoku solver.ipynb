{
 "cells": [
  {
   "cell_type": "code",
   "execution_count": 2,
   "metadata": {},
   "outputs": [],
   "source": [
    "import gurobipy as gp\n",
    "from gurobipy import GRB\n",
    "import numpy as np"
   ]
  },
  {
   "cell_type": "code",
   "execution_count": 3,
   "metadata": {},
   "outputs": [
    {
     "name": "stdout",
     "output_type": "stream",
     "text": [
      "Academic license - for non-commercial use only - expires 2021-05-21\n",
      "Using license file C:\\Users\\Satish\\gurobi.lic\n"
     ]
    }
   ],
   "source": [
    "m = gp.Model(\"sudoku solver\")\n",
    "size=3 # standard sudoku is 3 that is (3*3)*(3*3)\n",
    "n=size*size   # length of sudoku matrix\n",
    "problem=[[0,0,0,2,6,0,7,0,1],\n",
    "        [6,8,0,0,7,0,0,9,0],\n",
    "        [1,9,0,0,0,4,5,0,0],\n",
    "        [8,2,0,1,0,0,0,4,0],\n",
    "        [0,0,4,6,0,2,9,0,0],\n",
    "        [0,5,0,0,0,3,0,2,8],\n",
    "        [0,0,9,3,0,0,0,7,4],\n",
    "        [0,4,0,0,5,0,0,3,6],\n",
    "        [7,0,3,0,1,8,0,0,0]]\n",
    "# problem is the variable with the problem to be solved. add it as it is in each row with blanks as zero"
   ]
  },
  {
   "cell_type": "code",
   "execution_count": 4,
   "metadata": {},
   "outputs": [],
   "source": [
    "sudoku=m.addVars(n,n,n,vtype='b')  \n",
    "#The variable is a binary that is, is a number k (0 to 8)(add 1 to visualise) is present in location i,j of sudoku"
   ]
  },
  {
   "cell_type": "code",
   "execution_count": 5,
   "metadata": {},
   "outputs": [],
   "source": [
    "for i in range(n):\n",
    "    for j in range(n):\n",
    "        for k in range(n):\n",
    "            if problem[i][j]==k+1:\n",
    "                m.addConstr(sudoku[i,j,k]==1)\n",
    "# putting constraints that if a number is given in a problem statement then set the binary value\n",
    "# in sudoku variable as one defined above. "
   ]
  },
  {
   "cell_type": "code",
   "execution_count": 6,
   "metadata": {},
   "outputs": [
    {
     "data": {
      "text/plain": [
       "{(0, 0): <gurobi.Constr *Awaiting Model Update*>,\n",
       " (0, 1): <gurobi.Constr *Awaiting Model Update*>,\n",
       " (0, 2): <gurobi.Constr *Awaiting Model Update*>,\n",
       " (0, 3): <gurobi.Constr *Awaiting Model Update*>,\n",
       " (0, 4): <gurobi.Constr *Awaiting Model Update*>,\n",
       " (0, 5): <gurobi.Constr *Awaiting Model Update*>,\n",
       " (0, 6): <gurobi.Constr *Awaiting Model Update*>,\n",
       " (0, 7): <gurobi.Constr *Awaiting Model Update*>,\n",
       " (0, 8): <gurobi.Constr *Awaiting Model Update*>,\n",
       " (1, 0): <gurobi.Constr *Awaiting Model Update*>,\n",
       " (1, 1): <gurobi.Constr *Awaiting Model Update*>,\n",
       " (1, 2): <gurobi.Constr *Awaiting Model Update*>,\n",
       " (1, 3): <gurobi.Constr *Awaiting Model Update*>,\n",
       " (1, 4): <gurobi.Constr *Awaiting Model Update*>,\n",
       " (1, 5): <gurobi.Constr *Awaiting Model Update*>,\n",
       " (1, 6): <gurobi.Constr *Awaiting Model Update*>,\n",
       " (1, 7): <gurobi.Constr *Awaiting Model Update*>,\n",
       " (1, 8): <gurobi.Constr *Awaiting Model Update*>,\n",
       " (2, 0): <gurobi.Constr *Awaiting Model Update*>,\n",
       " (2, 1): <gurobi.Constr *Awaiting Model Update*>,\n",
       " (2, 2): <gurobi.Constr *Awaiting Model Update*>,\n",
       " (2, 3): <gurobi.Constr *Awaiting Model Update*>,\n",
       " (2, 4): <gurobi.Constr *Awaiting Model Update*>,\n",
       " (2, 5): <gurobi.Constr *Awaiting Model Update*>,\n",
       " (2, 6): <gurobi.Constr *Awaiting Model Update*>,\n",
       " (2, 7): <gurobi.Constr *Awaiting Model Update*>,\n",
       " (2, 8): <gurobi.Constr *Awaiting Model Update*>,\n",
       " (3, 0): <gurobi.Constr *Awaiting Model Update*>,\n",
       " (3, 1): <gurobi.Constr *Awaiting Model Update*>,\n",
       " (3, 2): <gurobi.Constr *Awaiting Model Update*>,\n",
       " (3, 3): <gurobi.Constr *Awaiting Model Update*>,\n",
       " (3, 4): <gurobi.Constr *Awaiting Model Update*>,\n",
       " (3, 5): <gurobi.Constr *Awaiting Model Update*>,\n",
       " (3, 6): <gurobi.Constr *Awaiting Model Update*>,\n",
       " (3, 7): <gurobi.Constr *Awaiting Model Update*>,\n",
       " (3, 8): <gurobi.Constr *Awaiting Model Update*>,\n",
       " (4, 0): <gurobi.Constr *Awaiting Model Update*>,\n",
       " (4, 1): <gurobi.Constr *Awaiting Model Update*>,\n",
       " (4, 2): <gurobi.Constr *Awaiting Model Update*>,\n",
       " (4, 3): <gurobi.Constr *Awaiting Model Update*>,\n",
       " (4, 4): <gurobi.Constr *Awaiting Model Update*>,\n",
       " (4, 5): <gurobi.Constr *Awaiting Model Update*>,\n",
       " (4, 6): <gurobi.Constr *Awaiting Model Update*>,\n",
       " (4, 7): <gurobi.Constr *Awaiting Model Update*>,\n",
       " (4, 8): <gurobi.Constr *Awaiting Model Update*>,\n",
       " (5, 0): <gurobi.Constr *Awaiting Model Update*>,\n",
       " (5, 1): <gurobi.Constr *Awaiting Model Update*>,\n",
       " (5, 2): <gurobi.Constr *Awaiting Model Update*>,\n",
       " (5, 3): <gurobi.Constr *Awaiting Model Update*>,\n",
       " (5, 4): <gurobi.Constr *Awaiting Model Update*>,\n",
       " (5, 5): <gurobi.Constr *Awaiting Model Update*>,\n",
       " (5, 6): <gurobi.Constr *Awaiting Model Update*>,\n",
       " (5, 7): <gurobi.Constr *Awaiting Model Update*>,\n",
       " (5, 8): <gurobi.Constr *Awaiting Model Update*>,\n",
       " (6, 0): <gurobi.Constr *Awaiting Model Update*>,\n",
       " (6, 1): <gurobi.Constr *Awaiting Model Update*>,\n",
       " (6, 2): <gurobi.Constr *Awaiting Model Update*>,\n",
       " (6, 3): <gurobi.Constr *Awaiting Model Update*>,\n",
       " (6, 4): <gurobi.Constr *Awaiting Model Update*>,\n",
       " (6, 5): <gurobi.Constr *Awaiting Model Update*>,\n",
       " (6, 6): <gurobi.Constr *Awaiting Model Update*>,\n",
       " (6, 7): <gurobi.Constr *Awaiting Model Update*>,\n",
       " (6, 8): <gurobi.Constr *Awaiting Model Update*>,\n",
       " (7, 0): <gurobi.Constr *Awaiting Model Update*>,\n",
       " (7, 1): <gurobi.Constr *Awaiting Model Update*>,\n",
       " (7, 2): <gurobi.Constr *Awaiting Model Update*>,\n",
       " (7, 3): <gurobi.Constr *Awaiting Model Update*>,\n",
       " (7, 4): <gurobi.Constr *Awaiting Model Update*>,\n",
       " (7, 5): <gurobi.Constr *Awaiting Model Update*>,\n",
       " (7, 6): <gurobi.Constr *Awaiting Model Update*>,\n",
       " (7, 7): <gurobi.Constr *Awaiting Model Update*>,\n",
       " (7, 8): <gurobi.Constr *Awaiting Model Update*>,\n",
       " (8, 0): <gurobi.Constr *Awaiting Model Update*>,\n",
       " (8, 1): <gurobi.Constr *Awaiting Model Update*>,\n",
       " (8, 2): <gurobi.Constr *Awaiting Model Update*>,\n",
       " (8, 3): <gurobi.Constr *Awaiting Model Update*>,\n",
       " (8, 4): <gurobi.Constr *Awaiting Model Update*>,\n",
       " (8, 5): <gurobi.Constr *Awaiting Model Update*>,\n",
       " (8, 6): <gurobi.Constr *Awaiting Model Update*>,\n",
       " (8, 7): <gurobi.Constr *Awaiting Model Update*>,\n",
       " (8, 8): <gurobi.Constr *Awaiting Model Update*>}"
      ]
     },
     "execution_count": 6,
     "metadata": {},
     "output_type": "execute_result"
    }
   ],
   "source": [
    "m.addConstrs(gp.quicksum(sudoku[i,j,k] for k in range(n)) == 1 for i in range(n) for j in range(n))\n",
    "\n",
    "# these constraints ensure that only one value (k=0 to 8) == 1 as only one number \n",
    "# occupies the cell i,j of the sudoku solution"
   ]
  },
  {
   "cell_type": "code",
   "execution_count": 7,
   "metadata": {},
   "outputs": [
    {
     "data": {
      "text/plain": [
       "{(0, 0): <gurobi.Constr *Awaiting Model Update*>,\n",
       " (0, 1): <gurobi.Constr *Awaiting Model Update*>,\n",
       " (0, 2): <gurobi.Constr *Awaiting Model Update*>,\n",
       " (0, 3): <gurobi.Constr *Awaiting Model Update*>,\n",
       " (0, 4): <gurobi.Constr *Awaiting Model Update*>,\n",
       " (0, 5): <gurobi.Constr *Awaiting Model Update*>,\n",
       " (0, 6): <gurobi.Constr *Awaiting Model Update*>,\n",
       " (0, 7): <gurobi.Constr *Awaiting Model Update*>,\n",
       " (0, 8): <gurobi.Constr *Awaiting Model Update*>,\n",
       " (1, 0): <gurobi.Constr *Awaiting Model Update*>,\n",
       " (1, 1): <gurobi.Constr *Awaiting Model Update*>,\n",
       " (1, 2): <gurobi.Constr *Awaiting Model Update*>,\n",
       " (1, 3): <gurobi.Constr *Awaiting Model Update*>,\n",
       " (1, 4): <gurobi.Constr *Awaiting Model Update*>,\n",
       " (1, 5): <gurobi.Constr *Awaiting Model Update*>,\n",
       " (1, 6): <gurobi.Constr *Awaiting Model Update*>,\n",
       " (1, 7): <gurobi.Constr *Awaiting Model Update*>,\n",
       " (1, 8): <gurobi.Constr *Awaiting Model Update*>,\n",
       " (2, 0): <gurobi.Constr *Awaiting Model Update*>,\n",
       " (2, 1): <gurobi.Constr *Awaiting Model Update*>,\n",
       " (2, 2): <gurobi.Constr *Awaiting Model Update*>,\n",
       " (2, 3): <gurobi.Constr *Awaiting Model Update*>,\n",
       " (2, 4): <gurobi.Constr *Awaiting Model Update*>,\n",
       " (2, 5): <gurobi.Constr *Awaiting Model Update*>,\n",
       " (2, 6): <gurobi.Constr *Awaiting Model Update*>,\n",
       " (2, 7): <gurobi.Constr *Awaiting Model Update*>,\n",
       " (2, 8): <gurobi.Constr *Awaiting Model Update*>,\n",
       " (3, 0): <gurobi.Constr *Awaiting Model Update*>,\n",
       " (3, 1): <gurobi.Constr *Awaiting Model Update*>,\n",
       " (3, 2): <gurobi.Constr *Awaiting Model Update*>,\n",
       " (3, 3): <gurobi.Constr *Awaiting Model Update*>,\n",
       " (3, 4): <gurobi.Constr *Awaiting Model Update*>,\n",
       " (3, 5): <gurobi.Constr *Awaiting Model Update*>,\n",
       " (3, 6): <gurobi.Constr *Awaiting Model Update*>,\n",
       " (3, 7): <gurobi.Constr *Awaiting Model Update*>,\n",
       " (3, 8): <gurobi.Constr *Awaiting Model Update*>,\n",
       " (4, 0): <gurobi.Constr *Awaiting Model Update*>,\n",
       " (4, 1): <gurobi.Constr *Awaiting Model Update*>,\n",
       " (4, 2): <gurobi.Constr *Awaiting Model Update*>,\n",
       " (4, 3): <gurobi.Constr *Awaiting Model Update*>,\n",
       " (4, 4): <gurobi.Constr *Awaiting Model Update*>,\n",
       " (4, 5): <gurobi.Constr *Awaiting Model Update*>,\n",
       " (4, 6): <gurobi.Constr *Awaiting Model Update*>,\n",
       " (4, 7): <gurobi.Constr *Awaiting Model Update*>,\n",
       " (4, 8): <gurobi.Constr *Awaiting Model Update*>,\n",
       " (5, 0): <gurobi.Constr *Awaiting Model Update*>,\n",
       " (5, 1): <gurobi.Constr *Awaiting Model Update*>,\n",
       " (5, 2): <gurobi.Constr *Awaiting Model Update*>,\n",
       " (5, 3): <gurobi.Constr *Awaiting Model Update*>,\n",
       " (5, 4): <gurobi.Constr *Awaiting Model Update*>,\n",
       " (5, 5): <gurobi.Constr *Awaiting Model Update*>,\n",
       " (5, 6): <gurobi.Constr *Awaiting Model Update*>,\n",
       " (5, 7): <gurobi.Constr *Awaiting Model Update*>,\n",
       " (5, 8): <gurobi.Constr *Awaiting Model Update*>,\n",
       " (6, 0): <gurobi.Constr *Awaiting Model Update*>,\n",
       " (6, 1): <gurobi.Constr *Awaiting Model Update*>,\n",
       " (6, 2): <gurobi.Constr *Awaiting Model Update*>,\n",
       " (6, 3): <gurobi.Constr *Awaiting Model Update*>,\n",
       " (6, 4): <gurobi.Constr *Awaiting Model Update*>,\n",
       " (6, 5): <gurobi.Constr *Awaiting Model Update*>,\n",
       " (6, 6): <gurobi.Constr *Awaiting Model Update*>,\n",
       " (6, 7): <gurobi.Constr *Awaiting Model Update*>,\n",
       " (6, 8): <gurobi.Constr *Awaiting Model Update*>,\n",
       " (7, 0): <gurobi.Constr *Awaiting Model Update*>,\n",
       " (7, 1): <gurobi.Constr *Awaiting Model Update*>,\n",
       " (7, 2): <gurobi.Constr *Awaiting Model Update*>,\n",
       " (7, 3): <gurobi.Constr *Awaiting Model Update*>,\n",
       " (7, 4): <gurobi.Constr *Awaiting Model Update*>,\n",
       " (7, 5): <gurobi.Constr *Awaiting Model Update*>,\n",
       " (7, 6): <gurobi.Constr *Awaiting Model Update*>,\n",
       " (7, 7): <gurobi.Constr *Awaiting Model Update*>,\n",
       " (7, 8): <gurobi.Constr *Awaiting Model Update*>,\n",
       " (8, 0): <gurobi.Constr *Awaiting Model Update*>,\n",
       " (8, 1): <gurobi.Constr *Awaiting Model Update*>,\n",
       " (8, 2): <gurobi.Constr *Awaiting Model Update*>,\n",
       " (8, 3): <gurobi.Constr *Awaiting Model Update*>,\n",
       " (8, 4): <gurobi.Constr *Awaiting Model Update*>,\n",
       " (8, 5): <gurobi.Constr *Awaiting Model Update*>,\n",
       " (8, 6): <gurobi.Constr *Awaiting Model Update*>,\n",
       " (8, 7): <gurobi.Constr *Awaiting Model Update*>,\n",
       " (8, 8): <gurobi.Constr *Awaiting Model Update*>}"
      ]
     },
     "execution_count": 7,
     "metadata": {},
     "output_type": "execute_result"
    }
   ],
   "source": [
    "m.addConstrs(gp.quicksum(sudoku[i,j,k] for i in range(n)) == 1 for j in range(n) for k in range(n))\n",
    "\n",
    "# constraint that if I add all rows then the k number should be present in j columns\n",
    "# or each number should appear in the column atleast once."
   ]
  },
  {
   "cell_type": "code",
   "execution_count": 8,
   "metadata": {},
   "outputs": [
    {
     "data": {
      "text/plain": [
       "{(0, 0): <gurobi.Constr *Awaiting Model Update*>,\n",
       " (0, 1): <gurobi.Constr *Awaiting Model Update*>,\n",
       " (0, 2): <gurobi.Constr *Awaiting Model Update*>,\n",
       " (0, 3): <gurobi.Constr *Awaiting Model Update*>,\n",
       " (0, 4): <gurobi.Constr *Awaiting Model Update*>,\n",
       " (0, 5): <gurobi.Constr *Awaiting Model Update*>,\n",
       " (0, 6): <gurobi.Constr *Awaiting Model Update*>,\n",
       " (0, 7): <gurobi.Constr *Awaiting Model Update*>,\n",
       " (0, 8): <gurobi.Constr *Awaiting Model Update*>,\n",
       " (1, 0): <gurobi.Constr *Awaiting Model Update*>,\n",
       " (1, 1): <gurobi.Constr *Awaiting Model Update*>,\n",
       " (1, 2): <gurobi.Constr *Awaiting Model Update*>,\n",
       " (1, 3): <gurobi.Constr *Awaiting Model Update*>,\n",
       " (1, 4): <gurobi.Constr *Awaiting Model Update*>,\n",
       " (1, 5): <gurobi.Constr *Awaiting Model Update*>,\n",
       " (1, 6): <gurobi.Constr *Awaiting Model Update*>,\n",
       " (1, 7): <gurobi.Constr *Awaiting Model Update*>,\n",
       " (1, 8): <gurobi.Constr *Awaiting Model Update*>,\n",
       " (2, 0): <gurobi.Constr *Awaiting Model Update*>,\n",
       " (2, 1): <gurobi.Constr *Awaiting Model Update*>,\n",
       " (2, 2): <gurobi.Constr *Awaiting Model Update*>,\n",
       " (2, 3): <gurobi.Constr *Awaiting Model Update*>,\n",
       " (2, 4): <gurobi.Constr *Awaiting Model Update*>,\n",
       " (2, 5): <gurobi.Constr *Awaiting Model Update*>,\n",
       " (2, 6): <gurobi.Constr *Awaiting Model Update*>,\n",
       " (2, 7): <gurobi.Constr *Awaiting Model Update*>,\n",
       " (2, 8): <gurobi.Constr *Awaiting Model Update*>,\n",
       " (3, 0): <gurobi.Constr *Awaiting Model Update*>,\n",
       " (3, 1): <gurobi.Constr *Awaiting Model Update*>,\n",
       " (3, 2): <gurobi.Constr *Awaiting Model Update*>,\n",
       " (3, 3): <gurobi.Constr *Awaiting Model Update*>,\n",
       " (3, 4): <gurobi.Constr *Awaiting Model Update*>,\n",
       " (3, 5): <gurobi.Constr *Awaiting Model Update*>,\n",
       " (3, 6): <gurobi.Constr *Awaiting Model Update*>,\n",
       " (3, 7): <gurobi.Constr *Awaiting Model Update*>,\n",
       " (3, 8): <gurobi.Constr *Awaiting Model Update*>,\n",
       " (4, 0): <gurobi.Constr *Awaiting Model Update*>,\n",
       " (4, 1): <gurobi.Constr *Awaiting Model Update*>,\n",
       " (4, 2): <gurobi.Constr *Awaiting Model Update*>,\n",
       " (4, 3): <gurobi.Constr *Awaiting Model Update*>,\n",
       " (4, 4): <gurobi.Constr *Awaiting Model Update*>,\n",
       " (4, 5): <gurobi.Constr *Awaiting Model Update*>,\n",
       " (4, 6): <gurobi.Constr *Awaiting Model Update*>,\n",
       " (4, 7): <gurobi.Constr *Awaiting Model Update*>,\n",
       " (4, 8): <gurobi.Constr *Awaiting Model Update*>,\n",
       " (5, 0): <gurobi.Constr *Awaiting Model Update*>,\n",
       " (5, 1): <gurobi.Constr *Awaiting Model Update*>,\n",
       " (5, 2): <gurobi.Constr *Awaiting Model Update*>,\n",
       " (5, 3): <gurobi.Constr *Awaiting Model Update*>,\n",
       " (5, 4): <gurobi.Constr *Awaiting Model Update*>,\n",
       " (5, 5): <gurobi.Constr *Awaiting Model Update*>,\n",
       " (5, 6): <gurobi.Constr *Awaiting Model Update*>,\n",
       " (5, 7): <gurobi.Constr *Awaiting Model Update*>,\n",
       " (5, 8): <gurobi.Constr *Awaiting Model Update*>,\n",
       " (6, 0): <gurobi.Constr *Awaiting Model Update*>,\n",
       " (6, 1): <gurobi.Constr *Awaiting Model Update*>,\n",
       " (6, 2): <gurobi.Constr *Awaiting Model Update*>,\n",
       " (6, 3): <gurobi.Constr *Awaiting Model Update*>,\n",
       " (6, 4): <gurobi.Constr *Awaiting Model Update*>,\n",
       " (6, 5): <gurobi.Constr *Awaiting Model Update*>,\n",
       " (6, 6): <gurobi.Constr *Awaiting Model Update*>,\n",
       " (6, 7): <gurobi.Constr *Awaiting Model Update*>,\n",
       " (6, 8): <gurobi.Constr *Awaiting Model Update*>,\n",
       " (7, 0): <gurobi.Constr *Awaiting Model Update*>,\n",
       " (7, 1): <gurobi.Constr *Awaiting Model Update*>,\n",
       " (7, 2): <gurobi.Constr *Awaiting Model Update*>,\n",
       " (7, 3): <gurobi.Constr *Awaiting Model Update*>,\n",
       " (7, 4): <gurobi.Constr *Awaiting Model Update*>,\n",
       " (7, 5): <gurobi.Constr *Awaiting Model Update*>,\n",
       " (7, 6): <gurobi.Constr *Awaiting Model Update*>,\n",
       " (7, 7): <gurobi.Constr *Awaiting Model Update*>,\n",
       " (7, 8): <gurobi.Constr *Awaiting Model Update*>,\n",
       " (8, 0): <gurobi.Constr *Awaiting Model Update*>,\n",
       " (8, 1): <gurobi.Constr *Awaiting Model Update*>,\n",
       " (8, 2): <gurobi.Constr *Awaiting Model Update*>,\n",
       " (8, 3): <gurobi.Constr *Awaiting Model Update*>,\n",
       " (8, 4): <gurobi.Constr *Awaiting Model Update*>,\n",
       " (8, 5): <gurobi.Constr *Awaiting Model Update*>,\n",
       " (8, 6): <gurobi.Constr *Awaiting Model Update*>,\n",
       " (8, 7): <gurobi.Constr *Awaiting Model Update*>,\n",
       " (8, 8): <gurobi.Constr *Awaiting Model Update*>}"
      ]
     },
     "execution_count": 8,
     "metadata": {},
     "output_type": "execute_result"
    }
   ],
   "source": [
    "m.addConstrs(gp.quicksum(sudoku[i,j,k] for j in range(n)) == 1 for i in range(n) for k in range(n))\n",
    "\n",
    "# constraint that if I add all columns then the k number should be present in i rows\n",
    "# or each number should appear in the row atleast once."
   ]
  },
  {
   "cell_type": "code",
   "execution_count": 9,
   "metadata": {},
   "outputs": [
    {
     "data": {
      "text/plain": [
       "{(0, 0, 0): <gurobi.Constr *Awaiting Model Update*>,\n",
       " (0, 0, 1): <gurobi.Constr *Awaiting Model Update*>,\n",
       " (0, 0, 2): <gurobi.Constr *Awaiting Model Update*>,\n",
       " (0, 1, 0): <gurobi.Constr *Awaiting Model Update*>,\n",
       " (0, 1, 1): <gurobi.Constr *Awaiting Model Update*>,\n",
       " (0, 1, 2): <gurobi.Constr *Awaiting Model Update*>,\n",
       " (0, 2, 0): <gurobi.Constr *Awaiting Model Update*>,\n",
       " (0, 2, 1): <gurobi.Constr *Awaiting Model Update*>,\n",
       " (0, 2, 2): <gurobi.Constr *Awaiting Model Update*>,\n",
       " (1, 0, 0): <gurobi.Constr *Awaiting Model Update*>,\n",
       " (1, 0, 1): <gurobi.Constr *Awaiting Model Update*>,\n",
       " (1, 0, 2): <gurobi.Constr *Awaiting Model Update*>,\n",
       " (1, 1, 0): <gurobi.Constr *Awaiting Model Update*>,\n",
       " (1, 1, 1): <gurobi.Constr *Awaiting Model Update*>,\n",
       " (1, 1, 2): <gurobi.Constr *Awaiting Model Update*>,\n",
       " (1, 2, 0): <gurobi.Constr *Awaiting Model Update*>,\n",
       " (1, 2, 1): <gurobi.Constr *Awaiting Model Update*>,\n",
       " (1, 2, 2): <gurobi.Constr *Awaiting Model Update*>,\n",
       " (2, 0, 0): <gurobi.Constr *Awaiting Model Update*>,\n",
       " (2, 0, 1): <gurobi.Constr *Awaiting Model Update*>,\n",
       " (2, 0, 2): <gurobi.Constr *Awaiting Model Update*>,\n",
       " (2, 1, 0): <gurobi.Constr *Awaiting Model Update*>,\n",
       " (2, 1, 1): <gurobi.Constr *Awaiting Model Update*>,\n",
       " (2, 1, 2): <gurobi.Constr *Awaiting Model Update*>,\n",
       " (2, 2, 0): <gurobi.Constr *Awaiting Model Update*>,\n",
       " (2, 2, 1): <gurobi.Constr *Awaiting Model Update*>,\n",
       " (2, 2, 2): <gurobi.Constr *Awaiting Model Update*>,\n",
       " (3, 0, 0): <gurobi.Constr *Awaiting Model Update*>,\n",
       " (3, 0, 1): <gurobi.Constr *Awaiting Model Update*>,\n",
       " (3, 0, 2): <gurobi.Constr *Awaiting Model Update*>,\n",
       " (3, 1, 0): <gurobi.Constr *Awaiting Model Update*>,\n",
       " (3, 1, 1): <gurobi.Constr *Awaiting Model Update*>,\n",
       " (3, 1, 2): <gurobi.Constr *Awaiting Model Update*>,\n",
       " (3, 2, 0): <gurobi.Constr *Awaiting Model Update*>,\n",
       " (3, 2, 1): <gurobi.Constr *Awaiting Model Update*>,\n",
       " (3, 2, 2): <gurobi.Constr *Awaiting Model Update*>,\n",
       " (4, 0, 0): <gurobi.Constr *Awaiting Model Update*>,\n",
       " (4, 0, 1): <gurobi.Constr *Awaiting Model Update*>,\n",
       " (4, 0, 2): <gurobi.Constr *Awaiting Model Update*>,\n",
       " (4, 1, 0): <gurobi.Constr *Awaiting Model Update*>,\n",
       " (4, 1, 1): <gurobi.Constr *Awaiting Model Update*>,\n",
       " (4, 1, 2): <gurobi.Constr *Awaiting Model Update*>,\n",
       " (4, 2, 0): <gurobi.Constr *Awaiting Model Update*>,\n",
       " (4, 2, 1): <gurobi.Constr *Awaiting Model Update*>,\n",
       " (4, 2, 2): <gurobi.Constr *Awaiting Model Update*>,\n",
       " (5, 0, 0): <gurobi.Constr *Awaiting Model Update*>,\n",
       " (5, 0, 1): <gurobi.Constr *Awaiting Model Update*>,\n",
       " (5, 0, 2): <gurobi.Constr *Awaiting Model Update*>,\n",
       " (5, 1, 0): <gurobi.Constr *Awaiting Model Update*>,\n",
       " (5, 1, 1): <gurobi.Constr *Awaiting Model Update*>,\n",
       " (5, 1, 2): <gurobi.Constr *Awaiting Model Update*>,\n",
       " (5, 2, 0): <gurobi.Constr *Awaiting Model Update*>,\n",
       " (5, 2, 1): <gurobi.Constr *Awaiting Model Update*>,\n",
       " (5, 2, 2): <gurobi.Constr *Awaiting Model Update*>,\n",
       " (6, 0, 0): <gurobi.Constr *Awaiting Model Update*>,\n",
       " (6, 0, 1): <gurobi.Constr *Awaiting Model Update*>,\n",
       " (6, 0, 2): <gurobi.Constr *Awaiting Model Update*>,\n",
       " (6, 1, 0): <gurobi.Constr *Awaiting Model Update*>,\n",
       " (6, 1, 1): <gurobi.Constr *Awaiting Model Update*>,\n",
       " (6, 1, 2): <gurobi.Constr *Awaiting Model Update*>,\n",
       " (6, 2, 0): <gurobi.Constr *Awaiting Model Update*>,\n",
       " (6, 2, 1): <gurobi.Constr *Awaiting Model Update*>,\n",
       " (6, 2, 2): <gurobi.Constr *Awaiting Model Update*>,\n",
       " (7, 0, 0): <gurobi.Constr *Awaiting Model Update*>,\n",
       " (7, 0, 1): <gurobi.Constr *Awaiting Model Update*>,\n",
       " (7, 0, 2): <gurobi.Constr *Awaiting Model Update*>,\n",
       " (7, 1, 0): <gurobi.Constr *Awaiting Model Update*>,\n",
       " (7, 1, 1): <gurobi.Constr *Awaiting Model Update*>,\n",
       " (7, 1, 2): <gurobi.Constr *Awaiting Model Update*>,\n",
       " (7, 2, 0): <gurobi.Constr *Awaiting Model Update*>,\n",
       " (7, 2, 1): <gurobi.Constr *Awaiting Model Update*>,\n",
       " (7, 2, 2): <gurobi.Constr *Awaiting Model Update*>,\n",
       " (8, 0, 0): <gurobi.Constr *Awaiting Model Update*>,\n",
       " (8, 0, 1): <gurobi.Constr *Awaiting Model Update*>,\n",
       " (8, 0, 2): <gurobi.Constr *Awaiting Model Update*>,\n",
       " (8, 1, 0): <gurobi.Constr *Awaiting Model Update*>,\n",
       " (8, 1, 1): <gurobi.Constr *Awaiting Model Update*>,\n",
       " (8, 1, 2): <gurobi.Constr *Awaiting Model Update*>,\n",
       " (8, 2, 0): <gurobi.Constr *Awaiting Model Update*>,\n",
       " (8, 2, 1): <gurobi.Constr *Awaiting Model Update*>,\n",
       " (8, 2, 2): <gurobi.Constr *Awaiting Model Update*>}"
      ]
     },
     "execution_count": 9,
     "metadata": {},
     "output_type": "execute_result"
    }
   ],
   "source": [
    "m.addConstrs(gp.quicksum(sudoku[i,j,k] for i in range(a*size,(a+1)*size) for j in range(b*size,(b+1)*size)) == 1 for k in range(n) for a in range(size) for b in range(size) )\n",
    "\n",
    "# constraint that if I add all cells in the small square of 3*3 then the k number should be present.\n",
    "# or each number should appear in the small square atleast once.\n"
   ]
  },
  {
   "cell_type": "code",
   "execution_count": 10,
   "metadata": {},
   "outputs": [],
   "source": [
    "m.setObjective(0, GRB.MAXIMIZE) # no objective function needed as the constraints are to be followed only to get a solution\n"
   ]
  },
  {
   "cell_type": "code",
   "execution_count": 11,
   "metadata": {},
   "outputs": [
    {
     "name": "stdout",
     "output_type": "stream",
     "text": [
      "Gurobi Optimizer version 9.1.1 build v9.1.1rc0 (win64)\n",
      "Thread count: 4 physical cores, 8 logical processors, using up to 8 threads\n",
      "Optimize a model with 360 rows, 729 columns and 2952 nonzeros\n",
      "Model fingerprint: 0x41accba4\n",
      "Variable types: 0 continuous, 729 integer (729 binary)\n",
      "Coefficient statistics:\n",
      "  Matrix range     [1e+00, 1e+00]\n",
      "  Objective range  [0e+00, 0e+00]\n",
      "  Bounds range     [1e+00, 1e+00]\n",
      "  RHS range        [1e+00, 1e+00]\n",
      "Presolve removed 360 rows and 729 columns\n",
      "Presolve time: 0.01s\n",
      "Presolve: All rows and columns removed\n",
      "\n",
      "Explored 0 nodes (0 simplex iterations) in 0.03 seconds\n",
      "Thread count was 1 (of 8 available processors)\n",
      "\n",
      "Solution count 1: -0 \n",
      "No other solutions better than -0\n",
      "\n",
      "Optimal solution found (tolerance 1.00e-04)\n",
      "Best objective -0.000000000000e+00, best bound -0.000000000000e+00, gap 0.0000%\n"
     ]
    }
   ],
   "source": [
    "m.ModelSense=GRB.MAXIMIZE                    #set optimization to maximize\n",
    "m.update()\n",
    "m.optimize()\n"
   ]
  },
  {
   "cell_type": "code",
   "execution_count": 12,
   "metadata": {},
   "outputs": [],
   "source": [
    "#sudoku\n"
   ]
  },
  {
   "cell_type": "code",
   "execution_count": 13,
   "metadata": {},
   "outputs": [],
   "source": [
    "#print(\"The ages of the 2 groups are assigned as:\")\n",
    "\n",
    "\n",
    "#for j in range(2):\n",
    "#    t=0\n",
    "#    print(f\"Group {j+1}\")\n",
    "#    for i in range(10):\n",
    "#        if x[(i,j)].x> 0.5:                # check for the values 1 in solution\n",
    "#            print(age[i])                  # print corresponding age\n",
    "#            t+=age[i]\n",
    "#    print(f\"Sum of Age for Group {j+1} is :{t}\")             #print corresponding sum of group\n",
    "\n",
    "    "
   ]
  },
  {
   "cell_type": "code",
   "execution_count": 14,
   "metadata": {},
   "outputs": [],
   "source": [
    "solution=np.zeros((n,n))\n",
    "\n",
    "for i in range(n):\n",
    "    for j in range(n):\n",
    "        for k in range(n):\n",
    "            if sudoku[i,j,k].x>0.5:\n",
    "                solution[i,j]=k+1\n",
    "       \n",
    "            \n",
    "# checking the solution and getting the values in the matrix.            "
   ]
  },
  {
   "cell_type": "code",
   "execution_count": 15,
   "metadata": {},
   "outputs": [
    {
     "data": {
      "text/plain": [
       "array([[4., 3., 5., 2., 6., 9., 7., 8., 1.],\n",
       "       [6., 8., 2., 5., 7., 1., 4., 9., 3.],\n",
       "       [1., 9., 7., 8., 3., 4., 5., 6., 2.],\n",
       "       [8., 2., 6., 1., 9., 5., 3., 4., 7.],\n",
       "       [3., 7., 4., 6., 8., 2., 9., 1., 5.],\n",
       "       [9., 5., 1., 7., 4., 3., 6., 2., 8.],\n",
       "       [5., 1., 9., 3., 2., 6., 8., 7., 4.],\n",
       "       [2., 4., 8., 9., 5., 7., 1., 3., 6.],\n",
       "       [7., 6., 3., 4., 1., 8., 2., 5., 9.]])"
      ]
     },
     "execution_count": 15,
     "metadata": {},
     "output_type": "execute_result"
    }
   ],
   "source": [
    "solution"
   ]
  },
  {
   "cell_type": "code",
   "execution_count": 16,
   "metadata": {},
   "outputs": [
    {
     "data": {
      "text/plain": [
       "[[0, 0, 0, 2, 6, 0, 7, 0, 1],\n",
       " [6, 8, 0, 0, 7, 0, 0, 9, 0],\n",
       " [1, 9, 0, 0, 0, 4, 5, 0, 0],\n",
       " [8, 2, 0, 1, 0, 0, 0, 4, 0],\n",
       " [0, 0, 4, 6, 0, 2, 9, 0, 0],\n",
       " [0, 5, 0, 0, 0, 3, 0, 2, 8],\n",
       " [0, 0, 9, 3, 0, 0, 0, 7, 4],\n",
       " [0, 4, 0, 0, 5, 0, 0, 3, 6],\n",
       " [7, 0, 3, 0, 1, 8, 0, 0, 0]]"
      ]
     },
     "execution_count": 16,
     "metadata": {},
     "output_type": "execute_result"
    }
   ],
   "source": [
    "problem"
   ]
  },
  {
   "cell_type": "code",
   "execution_count": null,
   "metadata": {},
   "outputs": [],
   "source": []
  },
  {
   "cell_type": "code",
   "execution_count": null,
   "metadata": {},
   "outputs": [],
   "source": []
  }
 ],
 "metadata": {
  "kernelspec": {
   "display_name": "Python 3",
   "language": "python",
   "name": "python3"
  },
  "language_info": {
   "codemirror_mode": {
    "name": "ipython",
    "version": 3
   },
   "file_extension": ".py",
   "mimetype": "text/x-python",
   "name": "python",
   "nbconvert_exporter": "python",
   "pygments_lexer": "ipython3",
   "version": "3.8.5"
  }
 },
 "nbformat": 4,
 "nbformat_minor": 4
}
